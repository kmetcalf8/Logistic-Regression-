{
 "cells": [
  {
   "cell_type": "code",
   "execution_count": 1,
   "metadata": {},
   "outputs": [],
   "source": [
    "import numpy as np\n",
    "import pandas as pd\n",
    "\n",
    "# visualization imports\n",
    "import matplotlib.pyplot as plt\n",
    "import seaborn as sns\n",
    "plt.style.use('fivethirtyeight')\n",
    "\n",
    "# modelling imports\n",
    "from sklearn.linear_model import LogisticRegression\n",
    "from sklearn.model_selection import train_test_split\n",
    "from sklearn.metrics import precision_score, recall_score, accuracy_score, roc_auc_score\n",
    "from sklearn.metrics import confusion_matrix\n",
    "from sklearn.preprocessing import StandardScaler\n"
   ]
  },
  {
   "cell_type": "code",
   "execution_count": 2,
   "metadata": {},
   "outputs": [],
   "source": [
    "import seaborn as sns\n",
    "from sklearn import datasets\n",
    "from sklearn.neighbors import KNeighborsClassifier\n",
    "from sklearn.linear_model import LogisticRegression\n",
    "from sklearn.model_selection import train_test_split\n",
    "from sklearn.metrics import precision_score, recall_score, precision_recall_curve,f1_score, fbeta_score\n",
    "\n",
    "plt.style.use('ggplot')\n",
    "%matplotlib inline\n",
    "np.set_printoptions(suppress=True) # Suppress scientific notation where possible"
   ]
  },
  {
   "cell_type": "code",
   "execution_count": 3,
   "metadata": {},
   "outputs": [],
   "source": [
    "import numpy as np\n",
    "from sklearn.ensemble import RandomForestClassifier\n",
    "from sklearn import datasets\n",
    "from sklearn.model_selection import train_test_split\n",
    "from sklearn.feature_selection import SelectFromModel\n",
    "from sklearn.metrics import accuracy_score"
   ]
  },
  {
   "cell_type": "code",
   "execution_count": 4,
   "metadata": {},
   "outputs": [],
   "source": [
    "funds_df = pd.read_csv(r'C:\\Users\\krystynametcalf\\Desktop\\funds_df.csv')"
   ]
  },
  {
   "cell_type": "code",
   "execution_count": 5,
   "metadata": {},
   "outputs": [],
   "source": [
    "funds_df = funds_df.drop(columns=['company_name', 'Round_A', 'raised_C'])"
   ]
  },
  {
   "cell_type": "code",
   "execution_count": 6,
   "metadata": {},
   "outputs": [
    {
     "data": {
      "text/plain": [
       "Index(['funded_year_A', 'raised_A', 'Round_B', 'funded_year_B', 'raised_B',\n",
       "       'Round_C', 'CHN', 'DEU', 'GBR', 'Other_Country', 'USA', 'Biotechnology',\n",
       "       'E-Commerce', 'Enterprise Software', 'Mobile', 'Other_Industry',\n",
       "       'Software', 'Beijing', 'London', 'New York', 'Other_City',\n",
       "       'San Francisco', 'seed', 'undisclosed', 'venture', 'None', 'venture.1',\n",
       "       'None.1', 'private_equity', 'venture.2'],\n",
       "      dtype='object')"
      ]
     },
     "execution_count": 6,
     "metadata": {},
     "output_type": "execute_result"
    }
   ],
   "source": [
    "funds_df.columns"
   ]
  },
  {
   "cell_type": "code",
   "execution_count": 7,
   "metadata": {},
   "outputs": [],
   "source": [
    "# Create a list of feature names\n",
    "feat_labels = ['funded_year_A', 'raised_A', 'Round_B', 'funded_year_B', 'raised_B',\n",
    "               'CHN', 'DEU', 'GBR', 'Other_Country', 'USA', 'Biotechnology',\n",
    "               'E-Commerce', 'Enterprise Software', 'Mobile', 'Other_Industry',\n",
    "               'Software', 'Beijing', 'London', 'New York', 'Other_City',\n",
    "               'San Francisco', 'seed', 'undisclosed', 'venture', 'None', 'venture.1',\n",
    "               'None.1', 'private_equity', 'venture.2']\n",
    "\n",
    "# Create X from the features\n",
    "X = funds_df.drop('Round_C', axis=1)\n",
    "\n",
    "# Create y from output\n",
    "y = funds_df['Round_C']"
   ]
  },
  {
   "cell_type": "code",
   "execution_count": 8,
   "metadata": {},
   "outputs": [],
   "source": [
    "# Split the data into 40% test and 60% training\n",
    "X_train, X_test, y_train, y_test = train_test_split(X, y, test_size=0.4, random_state=0)"
   ]
  },
  {
   "cell_type": "code",
   "execution_count": 9,
   "metadata": {},
   "outputs": [
    {
     "name": "stdout",
     "output_type": "stream",
     "text": [
      "('funded_year_A', 0.012401151199412198)\n",
      "('raised_A', 0.0031979602291777546)\n",
      "('Round_B', 0.026770209178157332)\n",
      "('funded_year_B', 0.0612481167724511)\n",
      "('raised_B', 0.022382070332665344)\n",
      "('CHN', 0.0002535344779807978)\n",
      "('DEU', 9.274023802052936e-05)\n",
      "('GBR', 0.0001489235415538441)\n",
      "('Other_Country', 0.0010785539113943338)\n",
      "('USA', 0.0014488788508195585)\n",
      "('Biotechnology', 0.00042057533217096957)\n",
      "('E-Commerce', 0.00018383542268607053)\n",
      "('Enterprise Software', 0.0003283137803506578)\n",
      "('Mobile', 0.00016311321516784344)\n",
      "('Other_Industry', 0.00039324456033314507)\n",
      "('Software', 0.00029661385522517154)\n",
      "('Beijing', 0.000204772376266961)\n",
      "('London', 6.795815677208497e-05)\n",
      "('New York', 0.00010502434180964281)\n",
      "('Other_City', 0.00035121492370958465)\n",
      "('San Francisco', 0.0004215491878029604)\n",
      "('seed', 3.171351031162921e-06)\n",
      "('undisclosed', 1.592277197065417e-08)\n",
      "('venture', 3.1307336236762796e-06)\n",
      "('None', 0.026906506395198558)\n",
      "('venture.1', 0.027121886467831282)\n",
      "('None.1', 0.4227887737891926)\n",
      "('private_equity', 0.00020998054979726863)\n",
      "('venture.2', 0.39100818090662554)\n"
     ]
    }
   ],
   "source": [
    "# Create a random forest classifier\n",
    "clf = RandomForestClassifier(n_estimators=10000, random_state=0, n_jobs=-1)\n",
    "\n",
    "# Train the classifier\n",
    "clf.fit(X_train, y_train)\n",
    "\n",
    "# Print the name and gini importance of each feature\n",
    "for feature in zip(feat_labels, clf.feature_importances_):\n",
    "    print(feature)"
   ]
  },
  {
   "cell_type": "code",
   "execution_count": 21,
   "metadata": {},
   "outputs": [
    {
     "data": {
      "text/plain": [
       "SelectFromModel(estimator=RandomForestClassifier(bootstrap=True, ccp_alpha=0.0,\n",
       "                                                 class_weight=None,\n",
       "                                                 criterion='gini',\n",
       "                                                 max_depth=None,\n",
       "                                                 max_features='auto',\n",
       "                                                 max_leaf_nodes=None,\n",
       "                                                 max_samples=None,\n",
       "                                                 min_impurity_decrease=0.0,\n",
       "                                                 min_impurity_split=None,\n",
       "                                                 min_samples_leaf=1,\n",
       "                                                 min_samples_split=2,\n",
       "                                                 min_weight_fraction_leaf=0.0,\n",
       "                                                 n_estimators=10000, n_jobs=-1,\n",
       "                                                 oob_score=False,\n",
       "                                                 random_state=0, verbose=0,\n",
       "                                                 warm_start=False),\n",
       "                max_features=None, norm_order=1, prefit=False, threshold=0.02)"
      ]
     },
     "execution_count": 21,
     "metadata": {},
     "output_type": "execute_result"
    }
   ],
   "source": [
    "# Create a selector object that will use the random forest classifier to identify\n",
    "# features that have an importance of more than 0.02\n",
    "sfm = SelectFromModel(clf, threshold=0.02)\n",
    "\n",
    "# Train the selector\n",
    "sfm.fit(X_train, y_train)"
   ]
  },
  {
   "cell_type": "code",
   "execution_count": 22,
   "metadata": {},
   "outputs": [
    {
     "name": "stdout",
     "output_type": "stream",
     "text": [
      "Round_B\n",
      "funded_year_B\n",
      "raised_B\n",
      "None\n",
      "venture.1\n",
      "None.1\n",
      "venture.2\n"
     ]
    }
   ],
   "source": [
    "# Print the names of the most important features\n",
    "for feature_list_index in sfm.get_support(indices=True):\n",
    "    print(feat_labels[feature_list_index])"
   ]
  },
  {
   "cell_type": "code",
   "execution_count": 25,
   "metadata": {},
   "outputs": [
    {
     "data": {
      "text/plain": [
       "Index(['funded_year_A', 'raised_A', 'Round_B', 'funded_year_B', 'raised_B',\n",
       "       'Round_C', 'CHN', 'DEU', 'GBR', 'Other_Country', 'USA', 'Biotechnology',\n",
       "       'E-Commerce', 'Enterprise Software', 'Mobile', 'Other_Industry',\n",
       "       'Software', 'Beijing', 'London', 'New York', 'Other_City',\n",
       "       'San Francisco', 'seed', 'undisclosed', 'venture', 'None', 'venture.1',\n",
       "       'None.1', 'private_equity', 'venture.2'],\n",
       "      dtype='object')"
      ]
     },
     "execution_count": 25,
     "metadata": {},
     "output_type": "execute_result"
    }
   ],
   "source": [
    "funds_df.columns"
   ]
  },
  {
   "cell_type": "code",
   "execution_count": 34,
   "metadata": {},
   "outputs": [],
   "source": [
    "feats_df = funds_df.drop(columns=['funded_year_A', 'raised_A', 'funded_year_B', 'raised_B', \n",
    "                                  'CHN', 'DEU', 'GBR', 'Other_Country', 'USA', 'Biotechnology',\n",
    "                                  'E-Commerce', 'Enterprise Software', 'Mobile', 'Other_Industry', \n",
    "                                  'Software', 'Beijing', 'London', 'New York', 'Other_City', 'San Francisco', 'seed', 'undisclosed', 'venture'])"
   ]
  },
  {
   "cell_type": "code",
   "execution_count": 35,
   "metadata": {},
   "outputs": [
    {
     "data": {
      "text/html": [
       "<div>\n",
       "<style scoped>\n",
       "    .dataframe tbody tr th:only-of-type {\n",
       "        vertical-align: middle;\n",
       "    }\n",
       "\n",
       "    .dataframe tbody tr th {\n",
       "        vertical-align: top;\n",
       "    }\n",
       "\n",
       "    .dataframe thead th {\n",
       "        text-align: right;\n",
       "    }\n",
       "</style>\n",
       "<table border=\"1\" class=\"dataframe\">\n",
       "  <thead>\n",
       "    <tr style=\"text-align: right;\">\n",
       "      <th></th>\n",
       "      <th>Round_B</th>\n",
       "      <th>Round_C</th>\n",
       "      <th>None</th>\n",
       "      <th>venture.1</th>\n",
       "      <th>None.1</th>\n",
       "      <th>private_equity</th>\n",
       "      <th>venture.2</th>\n",
       "    </tr>\n",
       "  </thead>\n",
       "  <tbody>\n",
       "    <tr>\n",
       "      <th>0</th>\n",
       "      <td>0</td>\n",
       "      <td>0</td>\n",
       "      <td>1</td>\n",
       "      <td>0</td>\n",
       "      <td>1</td>\n",
       "      <td>0</td>\n",
       "      <td>0</td>\n",
       "    </tr>\n",
       "    <tr>\n",
       "      <th>1</th>\n",
       "      <td>0</td>\n",
       "      <td>0</td>\n",
       "      <td>1</td>\n",
       "      <td>0</td>\n",
       "      <td>1</td>\n",
       "      <td>0</td>\n",
       "      <td>0</td>\n",
       "    </tr>\n",
       "    <tr>\n",
       "      <th>2</th>\n",
       "      <td>1</td>\n",
       "      <td>0</td>\n",
       "      <td>0</td>\n",
       "      <td>1</td>\n",
       "      <td>1</td>\n",
       "      <td>0</td>\n",
       "      <td>0</td>\n",
       "    </tr>\n",
       "  </tbody>\n",
       "</table>\n",
       "</div>"
      ],
      "text/plain": [
       "   Round_B  Round_C  None  venture.1  None.1  private_equity  venture.2\n",
       "0        0        0     1          0       1               0          0\n",
       "1        0        0     1          0       1               0          0\n",
       "2        1        0     0          1       1               0          0"
      ]
     },
     "execution_count": 35,
     "metadata": {},
     "output_type": "execute_result"
    }
   ],
   "source": [
    "feats_df.head(3)"
   ]
  },
  {
   "cell_type": "code",
   "execution_count": 36,
   "metadata": {},
   "outputs": [],
   "source": [
    "X = feats_df.drop('Round_C', axis=1)\n",
    "y = feats_df['Round_C']"
   ]
  },
  {
   "cell_type": "code",
   "execution_count": 38,
   "metadata": {},
   "outputs": [
    {
     "name": "stdout",
     "output_type": "stream",
     "text": [
      "1.0\n"
     ]
    }
   ],
   "source": [
    "from sklearn.neighbors import KNeighborsClassifier\n",
    "from sklearn import metrics\n",
    "knn = KNeighborsClassifier(n_neighbors=10)\n",
    "knn.fit(X, y)\n",
    "y_pred = knn.predict(X)\n",
    "\n",
    "\n",
    "print(metrics.accuracy_score(y, y_pred))"
   ]
  },
  {
   "cell_type": "code",
   "execution_count": 39,
   "metadata": {},
   "outputs": [],
   "source": [
    "from sklearn.model_selection import train_test_split\n",
    "X_train, X_test, y_train, y_test = train_test_split(X, y, test_size=0.4, random_state=42)"
   ]
  },
  {
   "cell_type": "code",
   "execution_count": 40,
   "metadata": {},
   "outputs": [
    {
     "name": "stdout",
     "output_type": "stream",
     "text": [
      "0.9997837837837837\n"
     ]
    }
   ],
   "source": [
    "# Train on training set, and Test on testing set\n",
    "knn = KNeighborsClassifier(n_neighbors=5)\n",
    "knn.fit(X_train, y_train)\n",
    "y_pred = knn.predict(X_test)\n",
    "print(metrics.accuracy_score(y_test, y_pred))"
   ]
  },
  {
   "cell_type": "code",
   "execution_count": 41,
   "metadata": {},
   "outputs": [],
   "source": [
    "from sklearn.model_selection import cross_val_score"
   ]
  },
  {
   "cell_type": "code",
   "execution_count": 42,
   "metadata": {},
   "outputs": [
    {
     "name": "stdout",
     "output_type": "stream",
     "text": [
      "[0.9991357 1.        1.        1.        1.        1.        1.\n",
      " 1.        1.        1.       ]\n"
     ]
    }
   ],
   "source": [
    "# 10-fold cross-validation with K=5 for KNN (the n_neighbors parameter)\n",
    "knn = KNeighborsClassifier(n_neighbors=5)\n",
    "scores = cross_val_score(knn, X, y, cv=10, scoring='accuracy')\n",
    "print(scores)"
   ]
  },
  {
   "cell_type": "code",
   "execution_count": 43,
   "metadata": {},
   "outputs": [
    {
     "name": "stdout",
     "output_type": "stream",
     "text": [
      "[1.0, 0.9999135695764909, 0.9999135695764909, 0.9999135695764909, 0.9999135695764909, 0.9999135695764909, 0.9999135695764909, 0.9999135695764909, 0.9999135695764909, 0.9999135695764909, 0.9999135695764909, 0.9999135695764909, 0.9999135695764909, 0.9999135695764909, 0.9999135695764909, 0.9999135695764909, 0.9999135695764909, 0.9999135695764909, 0.9999135695764909, 0.9999135695764909, 0.9999135695764909, 0.9999135695764909, 0.9999135695764909, 0.9999135695764909, 0.9999135695764909, 0.9999135695764909, 0.9999135695764909, 0.9999135695764909, 0.9999135695764909, 0.9999135695764909]\n"
     ]
    }
   ],
   "source": [
    "# search for an optimal value of K for KNN\n",
    "k_range = list(range(1, 31))\n",
    "k_scores = []\n",
    "for k in k_range:\n",
    "    knn = KNeighborsClassifier(n_neighbors=k)\n",
    "    scores = cross_val_score(knn, X, y, cv=10, scoring='accuracy')\n",
    "    k_scores.append(scores.mean())\n",
    "print(k_scores)"
   ]
  },
  {
   "cell_type": "code",
   "execution_count": 44,
   "metadata": {},
   "outputs": [
    {
     "data": {
      "text/plain": [
       "Text(0, 0.5, 'Cross-Validated Accuracy')"
      ]
     },
     "execution_count": 44,
     "metadata": {},
     "output_type": "execute_result"
    },
    {
     "data": {
      "image/png": "[encoded data removed]",
      "text/plain": [
       "<Figure size 432x288 with 1 Axes>"
      ]
     },
     "metadata": {
      "needs_background": "light"
     },
     "output_type": "display_data"
    }
   ],
   "source": [
    "import matplotlib.pyplot as plt\n",
    "%matplotlib inline\n",
    "\n",
    "# plot the value of K for KNN (x-axis) versus the cross-validated accuracy (y-axis)\n",
    "plt.plot(k_range, k_scores)\n",
    "plt.xlabel('Value of K for KNN')\n",
    "plt.ylabel('Cross-Validated Accuracy')"
   ]
  },
  {
   "cell_type": "code",
   "execution_count": null,
   "metadata": {},
   "outputs": [],
   "source": []
  }
 ],
 "metadata": {
  "kernelspec": {
   "display_name": "Python 3",
   "language": "python",
   "name": "python3"
  },
  "language_info": {
   "codemirror_mode": {
    "name": "ipython",
    "version": 3
   },
   "file_extension": ".py",
   "mimetype": "text/x-python",
   "name": "python",
   "nbconvert_exporter": "python",
   "pygments_lexer": "ipython3",
   "version": "3.7.6"
  }
 },
 "nbformat": 4,
 "nbformat_minor": 4
}
